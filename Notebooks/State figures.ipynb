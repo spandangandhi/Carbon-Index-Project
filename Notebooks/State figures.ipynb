{
 "cells": [
  {
   "cell_type": "code",
   "execution_count": 1,
   "metadata": {
    "ExecuteTime": {
     "end_time": "2018-03-07T20:43:07.409241Z",
     "start_time": "2018-03-07T20:43:05.714457Z"
    }
   },
   "outputs": [],
   "source": [
    "%matplotlib inline\n",
    "import pandas as pd\n",
    "import seaborn as sns\n",
    "import matplotlib.pyplot as plt\n",
    "import os\n",
    "from os import listdir\n",
    "from os.path import isfile, join\n",
    "import numpy as np\n",
    "cwd = os.getcwd()\n",
    "base_path = join(cwd, '..')\n",
    "data_path = join(base_path, 'Data storage', 'final state data')\n",
    "fig_export_path = join(base_path, 'Figures')\n",
    "idx = pd.IndexSlice"
   ]
  },
  {
   "cell_type": "markdown",
   "metadata": {
    "heading_collapsed": true
   },
   "source": [
    "### Date string for filenames\n",
    "This will be inserted into all filenames (reading and writing)"
   ]
  },
  {
   "cell_type": "code",
   "execution_count": 2,
   "metadata": {
    "ExecuteTime": {
     "end_time": "2018-03-07T20:44:30.908116Z",
     "start_time": "2018-03-07T20:44:30.904830Z"
    },
    "hidden": true
   },
   "outputs": [],
   "source": [
    "file_date = '2018-03-06'"
   ]
  },
  {
   "cell_type": "code",
   "execution_count": 3,
   "metadata": {
    "ExecuteTime": {
     "end_time": "2018-03-07T20:44:37.588763Z",
     "start_time": "2018-03-07T20:44:37.558109Z"
    },
    "hidden": true
   },
   "outputs": [],
   "source": [
    "us_state_abbrev = {\n",
    "    'United States': 'US',\n",
    "    'Alabama': 'AL',\n",
    "    'Alaska': 'AK',\n",
    "    'Arizona': 'AZ',\n",
    "    'Arkansas': 'AR',\n",
    "    'California': 'CA',\n",
    "    'Colorado': 'CO',\n",
    "    'Connecticut': 'CT',\n",
    "    'Delaware': 'DE',\n",
    "    'Florida': 'FL',\n",
    "    'Georgia': 'GA',\n",
    "    'Hawaii': 'HI',\n",
    "    'Idaho': 'ID',\n",
    "    'Illinois': 'IL',\n",
    "    'Indiana': 'IN',\n",
    "    'Iowa': 'IA',\n",
    "    'Kansas': 'KS',\n",
    "    'Kentucky': 'KY',\n",
    "    'Louisiana': 'LA',\n",
    "    'Maine': 'ME',\n",
    "    'Maryland': 'MD',\n",
    "    'Massachusetts': 'MA',\n",
    "    'Michigan': 'MI',\n",
    "    'Minnesota': 'MN',\n",
    "    'Mississippi': 'MS',\n",
    "    'Missouri': 'MO',\n",
    "    'Montana': 'MT',\n",
    "    'Nebraska': 'NE',\n",
    "    'Nevada': 'NV',\n",
    "    'New Hampshire': 'NH',\n",
    "    'New Jersey': 'NJ',\n",
    "    'New Mexico': 'NM',\n",
    "    'New York': 'NY',\n",
    "    'North Carolina': 'NC',\n",
    "    'North Dakota': 'ND',\n",
    "    'Ohio': 'OH',\n",
    "    'Oklahoma': 'OK',\n",
    "    'Oregon': 'OR',\n",
    "    'Pennsylvania': 'PA',\n",
    "    'Rhode Island': 'RI',\n",
    "    'South Carolina': 'SC',\n",
    "    'South Dakota': 'SD',\n",
    "    'Tennessee': 'TN',\n",
    "    'Texas': 'TX',\n",
    "    'Utah': 'UT',\n",
    "    'Vermont': 'VT',\n",
    "    'Virginia': 'VA',\n",
    "    'Washington': 'WA',\n",
    "    'West Virginia': 'WV',\n",
    "    'Wisconsin': 'WI',\n",
    "    'Wyoming': 'WY',\n",
    "}"
   ]
  },
  {
   "cell_type": "markdown",
   "metadata": {},
   "source": [
    "## Import & combine generation and CO₂ intensity data"
   ]
  },
  {
   "cell_type": "markdown",
   "metadata": {},
   "source": [
    "### CO₂ intensity"
   ]
  },
  {
   "cell_type": "code",
   "execution_count": 4,
   "metadata": {
    "ExecuteTime": {
     "end_time": "2018-03-07T20:46:56.217144Z",
     "start_time": "2018-03-07T20:46:56.189423Z"
    }
   },
   "outputs": [],
   "source": [
    "index_path = join(data_path, 'Monthly index states {}.csv'.format(file_date))\n",
    "monthly_index = pd.read_csv(index_path)"
   ]
  },
  {
   "cell_type": "code",
   "execution_count": 5,
   "metadata": {
    "ExecuteTime": {
     "end_time": "2018-03-07T20:47:08.005515Z",
     "start_time": "2018-03-07T20:47:07.975778Z"
    }
   },
   "outputs": [
    {
     "data": {
      "text/html": [
       "<div>\n",
       "<style scoped>\n",
       "    .dataframe tbody tr th:only-of-type {\n",
       "        vertical-align: middle;\n",
       "    }\n",
       "\n",
       "    .dataframe tbody tr th {\n",
       "        vertical-align: top;\n",
       "    }\n",
       "\n",
       "    .dataframe thead th {\n",
       "        text-align: right;\n",
       "    }\n",
       "</style>\n",
       "<table border=\"1\" class=\"dataframe\">\n",
       "  <thead>\n",
       "    <tr style=\"text-align: right;\">\n",
       "      <th></th>\n",
       "      <th></th>\n",
       "      <th>final co2 (kg)</th>\n",
       "      <th>generation (mwh)</th>\n",
       "      <th>index (g/kwh)</th>\n",
       "    </tr>\n",
       "    <tr>\n",
       "      <th>state</th>\n",
       "      <th>year</th>\n",
       "      <th></th>\n",
       "      <th></th>\n",
       "      <th></th>\n",
       "    </tr>\n",
       "  </thead>\n",
       "  <tbody>\n",
       "    <tr>\n",
       "      <th rowspan=\"5\" valign=\"top\">AK</th>\n",
       "      <th>2001</th>\n",
       "      <td>4.192039e+09</td>\n",
       "      <td>6743766.00</td>\n",
       "      <td>621.616856</td>\n",
       "    </tr>\n",
       "    <tr>\n",
       "      <th>2002</th>\n",
       "      <td>3.829402e+09</td>\n",
       "      <td>6767322.00</td>\n",
       "      <td>565.866731</td>\n",
       "    </tr>\n",
       "    <tr>\n",
       "      <th>2003</th>\n",
       "      <td>3.474714e+09</td>\n",
       "      <td>6338738.00</td>\n",
       "      <td>548.171264</td>\n",
       "    </tr>\n",
       "    <tr>\n",
       "      <th>2004</th>\n",
       "      <td>3.492109e+09</td>\n",
       "      <td>6526716.92</td>\n",
       "      <td>535.048356</td>\n",
       "    </tr>\n",
       "    <tr>\n",
       "      <th>2005</th>\n",
       "      <td>3.531411e+09</td>\n",
       "      <td>6576658.54</td>\n",
       "      <td>536.961208</td>\n",
       "    </tr>\n",
       "  </tbody>\n",
       "</table>\n",
       "</div>"
      ],
      "text/plain": [
       "            final co2 (kg)  generation (mwh)  index (g/kwh)\n",
       "state year                                                 \n",
       "AK    2001    4.192039e+09        6743766.00     621.616856\n",
       "      2002    3.829402e+09        6767322.00     565.866731\n",
       "      2003    3.474714e+09        6338738.00     548.171264\n",
       "      2004    3.492109e+09        6526716.92     535.048356\n",
       "      2005    3.531411e+09        6576658.54     536.961208"
      ]
     },
     "execution_count": 5,
     "metadata": {},
     "output_type": "execute_result"
    }
   ],
   "source": [
    "annual_index = monthly_index.groupby(['state', 'year']).sum()\n",
    "annual_index.drop(['month', 'quarter'], axis=1, inplace=True)\n",
    "annual_index['index (g/kwh)'] = (annual_index['final co2 (kg)']\n",
    "                                 / annual_index['generation (mwh)'])\n",
    "annual_index.head()"
   ]
  },
  {
   "cell_type": "markdown",
   "metadata": {},
   "source": [
    "### Generation"
   ]
  },
  {
   "cell_type": "code",
   "execution_count": 6,
   "metadata": {
    "ExecuteTime": {
     "end_time": "2018-03-07T20:47:37.915233Z",
     "start_time": "2018-03-07T20:47:37.749452Z"
    }
   },
   "outputs": [],
   "source": [
    "gen_path = join(data_path, 'Monthly generation states {}.csv'.format(file_date))\n",
    "monthly_gen = pd.read_csv(gen_path)"
   ]
  },
  {
   "cell_type": "code",
   "execution_count": 7,
   "metadata": {
    "ExecuteTime": {
     "end_time": "2018-03-07T20:47:45.151408Z",
     "start_time": "2018-03-07T20:47:45.111153Z"
    }
   },
   "outputs": [
    {
     "data": {
      "text/html": [
       "<div>\n",
       "<style scoped>\n",
       "    .dataframe tbody tr th:only-of-type {\n",
       "        vertical-align: middle;\n",
       "    }\n",
       "\n",
       "    .dataframe tbody tr th {\n",
       "        vertical-align: top;\n",
       "    }\n",
       "\n",
       "    .dataframe thead th {\n",
       "        text-align: right;\n",
       "    }\n",
       "</style>\n",
       "<table border=\"1\" class=\"dataframe\">\n",
       "  <thead>\n",
       "    <tr style=\"text-align: right;\">\n",
       "      <th></th>\n",
       "      <th></th>\n",
       "      <th></th>\n",
       "      <th>generation (mwh)</th>\n",
       "      <th>total fuel (mmbtu)</th>\n",
       "      <th>elec fuel (mmbtu)</th>\n",
       "      <th>all fuel co2 (kg)</th>\n",
       "      <th>elec fuel co2 (kg)</th>\n",
       "    </tr>\n",
       "    <tr>\n",
       "      <th>fuel category</th>\n",
       "      <th>state</th>\n",
       "      <th>year</th>\n",
       "      <th></th>\n",
       "      <th></th>\n",
       "      <th></th>\n",
       "      <th></th>\n",
       "      <th></th>\n",
       "    </tr>\n",
       "  </thead>\n",
       "  <tbody>\n",
       "    <tr>\n",
       "      <th rowspan=\"5\" valign=\"top\">Coal</th>\n",
       "      <th rowspan=\"5\" valign=\"top\">AK</th>\n",
       "      <th>2001</th>\n",
       "      <td>564593.00</td>\n",
       "      <td>14858000.0</td>\n",
       "      <td>11124000.0</td>\n",
       "      <td>1.415224e+09</td>\n",
       "      <td>1.059561e+09</td>\n",
       "    </tr>\n",
       "    <tr>\n",
       "      <th>2002</th>\n",
       "      <td>575286.00</td>\n",
       "      <td>13086000.0</td>\n",
       "      <td>8005000.0</td>\n",
       "      <td>1.246442e+09</td>\n",
       "      <td>7.624762e+08</td>\n",
       "    </tr>\n",
       "    <tr>\n",
       "      <th>2003</th>\n",
       "      <td>549665.00</td>\n",
       "      <td>12792000.0</td>\n",
       "      <td>8153000.0</td>\n",
       "      <td>1.218438e+09</td>\n",
       "      <td>7.765732e+08</td>\n",
       "    </tr>\n",
       "    <tr>\n",
       "      <th>2004</th>\n",
       "      <td>648979.71</td>\n",
       "      <td>13566410.0</td>\n",
       "      <td>7815580.0</td>\n",
       "      <td>1.292201e+09</td>\n",
       "      <td>7.444340e+08</td>\n",
       "    </tr>\n",
       "    <tr>\n",
       "      <th>2005</th>\n",
       "      <td>624317.77</td>\n",
       "      <td>13285200.0</td>\n",
       "      <td>7445360.0</td>\n",
       "      <td>1.265415e+09</td>\n",
       "      <td>7.091705e+08</td>\n",
       "    </tr>\n",
       "  </tbody>\n",
       "</table>\n",
       "</div>"
      ],
      "text/plain": [
       "                          generation (mwh)  total fuel (mmbtu)  \\\n",
       "fuel category state year                                         \n",
       "Coal          AK    2001         564593.00          14858000.0   \n",
       "                    2002         575286.00          13086000.0   \n",
       "                    2003         549665.00          12792000.0   \n",
       "                    2004         648979.71          13566410.0   \n",
       "                    2005         624317.77          13285200.0   \n",
       "\n",
       "                          elec fuel (mmbtu)  all fuel co2 (kg)  \\\n",
       "fuel category state year                                         \n",
       "Coal          AK    2001         11124000.0       1.415224e+09   \n",
       "                    2002          8005000.0       1.246442e+09   \n",
       "                    2003          8153000.0       1.218438e+09   \n",
       "                    2004          7815580.0       1.292201e+09   \n",
       "                    2005          7445360.0       1.265415e+09   \n",
       "\n",
       "                          elec fuel co2 (kg)  \n",
       "fuel category state year                      \n",
       "Coal          AK    2001        1.059561e+09  \n",
       "                    2002        7.624762e+08  \n",
       "                    2003        7.765732e+08  \n",
       "                    2004        7.444340e+08  \n",
       "                    2005        7.091705e+08  "
      ]
     },
     "execution_count": 7,
     "metadata": {},
     "output_type": "execute_result"
    }
   ],
   "source": [
    "annual_gen = monthly_gen.groupby(['fuel category', 'state', 'year']).sum()\n",
    "annual_gen.drop(['month', 'quarter'], axis=1, inplace=True)\n",
    "annual_gen.head()"
   ]
  },
  {
   "cell_type": "markdown",
   "metadata": {},
   "source": [
    "## State RPS information\n",
    "Use data from [LBNL](https://emp.lbl.gov/publications/us-renewables-portfolio-standards-0) to determine what year each state's RPS required that renewable energy be procured."
   ]
  },
  {
   "cell_type": "code",
   "execution_count": 8,
   "metadata": {
    "ExecuteTime": {
     "end_time": "2018-03-07T20:48:51.501968Z",
     "start_time": "2018-03-07T20:48:51.371737Z"
    }
   },
   "outputs": [],
   "source": [
    "path = os.path.join(base_path, 'Data storage',\n",
    "                    'rps_compliance_data_july_2017.xlsx')\n",
    "rps = pd.read_excel(path, header=35, usecols='A:V', na_values=['-'])\n",
    "\n",
    "rps.index = rps.index.droplevel([1, 2])\n",
    "\n",
    "rps.index.names = ['state', 'Type']\n",
    "\n",
    "rps_tidy = pd.melt(rps.xs('Total RPS', level='Type').reset_index(), \n",
    "                   id_vars='state', var_name='year', value_vars=rps.columns, \n",
    "                   value_name='Generation').dropna().sort_values(['state', 'year'])\n",
    "\n",
    "rps_start = {}\n",
    "for state in rps_tidy['state'].unique():\n",
    "    first_year = rps_tidy.loc[rps_tidy['state'] == state, 'year'].min()\n",
    "    rps_start[state] = first_year"
   ]
  },
  {
   "cell_type": "code",
   "execution_count": 9,
   "metadata": {
    "ExecuteTime": {
     "end_time": "2018-03-07T20:48:53.799787Z",
     "start_time": "2018-03-07T20:48:53.794373Z"
    }
   },
   "outputs": [
    {
     "data": {
      "text/plain": [
       "{'AZ': 2001,\n",
       " 'CA': 2004,\n",
       " 'CO': 2007,\n",
       " 'CT': 2004,\n",
       " 'DC': 2007,\n",
       " 'DE': 2007,\n",
       " 'HI': 2005,\n",
       " 'IA': 1999,\n",
       " 'IL': 2008,\n",
       " 'KS': 2011,\n",
       " 'MA': 2003,\n",
       " 'MD': 2006,\n",
       " 'ME': 2000,\n",
       " 'MI': 2012,\n",
       " 'MN': 2002,\n",
       " 'MO': 2011,\n",
       " 'MT': 2008,\n",
       " 'NC': 2010,\n",
       " 'NH': 2008,\n",
       " 'NJ': 2001,\n",
       " 'NM': 2006,\n",
       " 'NV': 2003,\n",
       " 'NY': 2006,\n",
       " 'OH': 2009,\n",
       " 'OR': 2011,\n",
       " 'PA': 2006,\n",
       " 'RI': 2007,\n",
       " 'TX': 2002,\n",
       " 'WA': 2012,\n",
       " 'WI': 2000}"
      ]
     },
     "execution_count": 9,
     "metadata": {},
     "output_type": "execute_result"
    }
   ],
   "source": [
    "rps_start"
   ]
  },
  {
   "cell_type": "markdown",
   "metadata": {},
   "source": [
    "## Dumbell plot of annual state index"
   ]
  },
  {
   "cell_type": "markdown",
   "metadata": {},
   "source": [
    "### Dumbell plot code\n",
    "https://github.com/iturki/Data-Analysis-and-Visualization-Projects/blob/master/dumbbell-chart-python/dumbbbell_plot.py"
   ]
  },
  {
   "cell_type": "code",
   "execution_count": 10,
   "metadata": {
    "ExecuteTime": {
     "end_time": "2018-03-07T20:48:59.150602Z",
     "start_time": "2018-03-07T20:48:59.145847Z"
    }
   },
   "outputs": [],
   "source": [
    "sns.set()\n",
    "sns.set_style('white')"
   ]
  },
  {
   "cell_type": "markdown",
   "metadata": {},
   "source": [
    "This version of the plot is probably better/more flexible"
   ]
  },
  {
   "cell_type": "code",
   "execution_count": 124,
   "metadata": {
    "ExecuteTime": {
     "end_time": "2018-03-08T18:50:06.404382Z",
     "start_time": "2018-03-08T18:50:06.224353Z"
    }
   },
   "outputs": [],
   "source": [
    "def dumbell_plot(data, years, axis_labels, legend_loc=[], offset_divider=35,\n",
    "                 rps_start={}, fig_kwargs={}, figsize=(5,9), legend=True, rps_legend=False,\n",
    "                 text_h_align='right', palette='deep', style=None):\n",
    "    '''\n",
    "    This is an example to create a dumbbell chart in Python.\n",
    "    If you would like to provide your data and customize the graph, modify the variables in the section below.\n",
    "    Please be aware that you need matplotlib installed in order for this to work.\n",
    "    '''\n",
    "    prop_cycle = plt.rcParams['axes.prop_cycle']\n",
    "    if style:\n",
    "        plt.style.use(style)\n",
    "        colors = sns.color_palette()\n",
    "    else:\n",
    "        colors = sns.color_palette(palette)\n",
    "\n",
    "    # Styles to be used when plotting the different elements of the graph.\n",
    "    axis_label_style = dict(horizontalalignment=text_h_align,\n",
    "                            verticalalignment='center', fontsize=10)\n",
    "    \n",
    "    data = data.loc[:, years]\n",
    "    min_data = data.min(axis=1)\n",
    "    max_data = data.max(axis=1)\n",
    "\n",
    "    # Create the figure\n",
    "    fig, ax = plt.subplots(figsize=figsize, **fig_kwargs)\n",
    "\n",
    "    index = range(len(axis_labels))\n",
    "    \n",
    "    # Auto-set the state abbr text offset\n",
    "    label_offset = data.max().max() / offset_divider\n",
    "    \n",
    "    # Loop N times\n",
    "    for i, (data, year) in enumerate(zip(data.T.values, years)):\n",
    "        color = colors[i]\n",
    "        for value, label, j in zip(data, axis_labels, index):\n",
    "            facecolor = None\n",
    "            if label in rps_start and rps_start[label] <= year:\n",
    "                facecolor = 'w'\n",
    "            \n",
    "            ax.scatter(value, j, facecolors=facecolor, zorder=3, color=color,\n",
    "                      linewidth=2, s=50)\n",
    "            \n",
    "            plt.hlines(y=j, xmin=min_data[j], xmax=max_data[j], zorder=2)\n",
    "            \n",
    "            if i == 0:\n",
    "                ax.text(min_data[j] - label_offset, j, label,\n",
    "                        **axis_label_style)\n",
    "\n",
    "    plt.yticks(index, ['' for x in axis_labels])\n",
    "\n",
    "    if legend:\n",
    "        for i, year in enumerate(years):\n",
    "            ax.scatter(x=legend_loc[i], y=51, color=colors[i], zorder=3,\n",
    "                       s=50, linewidth=2)\n",
    "            plt.text(x=legend_loc[i], y=52, s=str(year), ha='center')\n",
    "        plt.hlines(y=51, xmin=legend_loc[0], zorder=2, xmax=legend_loc[-1])\n",
    "        \n",
    "        # Add filled and hollow circles to show RPS status in legend\n",
    "        if rps_legend:\n",
    "            ax.scatter(x=legend_loc[i], y=49, color=colors[i], s=50,\n",
    "                       linewidth=2)\n",
    "            plt.text(x=legend_loc[i] * 1.4, y=48.9, s='No RPS', ha='left', va='center')\n",
    "\n",
    "            ax.scatter(x=legend_loc[i], y=47.5, color=colors[i], s=50,\n",
    "                       linewidth=2, facecolor='w')\n",
    "            plt.text(x=legend_loc[i] * 1.4, y=47.4, s='RPS', ha='left', va='center')\n",
    "        "
   ]
  },
  {
   "cell_type": "code",
   "execution_count": 12,
   "metadata": {
    "ExecuteTime": {
     "end_time": "2018-03-07T20:49:05.435069Z",
     "start_time": "2018-03-07T20:49:05.423198Z"
    }
   },
   "outputs": [
    {
     "data": {
      "text/html": [
       "<div>\n",
       "<style scoped>\n",
       "    .dataframe tbody tr th:only-of-type {\n",
       "        vertical-align: middle;\n",
       "    }\n",
       "\n",
       "    .dataframe tbody tr th {\n",
       "        vertical-align: top;\n",
       "    }\n",
       "\n",
       "    .dataframe thead th {\n",
       "        text-align: right;\n",
       "    }\n",
       "</style>\n",
       "<table border=\"1\" class=\"dataframe\">\n",
       "  <thead>\n",
       "    <tr style=\"text-align: right;\">\n",
       "      <th></th>\n",
       "      <th></th>\n",
       "      <th>final co2 (kg)</th>\n",
       "      <th>generation (mwh)</th>\n",
       "      <th>index (g/kwh)</th>\n",
       "    </tr>\n",
       "    <tr>\n",
       "      <th>state</th>\n",
       "      <th>year</th>\n",
       "      <th></th>\n",
       "      <th></th>\n",
       "      <th></th>\n",
       "    </tr>\n",
       "  </thead>\n",
       "  <tbody>\n",
       "    <tr>\n",
       "      <th rowspan=\"5\" valign=\"top\">AK</th>\n",
       "      <th>2001</th>\n",
       "      <td>4.192039e+09</td>\n",
       "      <td>6743766.00</td>\n",
       "      <td>621.616856</td>\n",
       "    </tr>\n",
       "    <tr>\n",
       "      <th>2002</th>\n",
       "      <td>3.829402e+09</td>\n",
       "      <td>6767322.00</td>\n",
       "      <td>565.866731</td>\n",
       "    </tr>\n",
       "    <tr>\n",
       "      <th>2003</th>\n",
       "      <td>3.474714e+09</td>\n",
       "      <td>6338738.00</td>\n",
       "      <td>548.171264</td>\n",
       "    </tr>\n",
       "    <tr>\n",
       "      <th>2004</th>\n",
       "      <td>3.492109e+09</td>\n",
       "      <td>6526716.92</td>\n",
       "      <td>535.048356</td>\n",
       "    </tr>\n",
       "    <tr>\n",
       "      <th>2005</th>\n",
       "      <td>3.531411e+09</td>\n",
       "      <td>6576658.54</td>\n",
       "      <td>536.961208</td>\n",
       "    </tr>\n",
       "  </tbody>\n",
       "</table>\n",
       "</div>"
      ],
      "text/plain": [
       "            final co2 (kg)  generation (mwh)  index (g/kwh)\n",
       "state year                                                 \n",
       "AK    2001    4.192039e+09        6743766.00     621.616856\n",
       "      2002    3.829402e+09        6767322.00     565.866731\n",
       "      2003    3.474714e+09        6338738.00     548.171264\n",
       "      2004    3.492109e+09        6526716.92     535.048356\n",
       "      2005    3.531411e+09        6576658.54     536.961208"
      ]
     },
     "execution_count": 12,
     "metadata": {},
     "output_type": "execute_result"
    }
   ],
   "source": [
    "annual_index.head()"
   ]
  },
  {
   "cell_type": "markdown",
   "metadata": {},
   "source": [
    "### State CO₂ intensity changes"
   ]
  },
  {
   "cell_type": "code",
   "execution_count": 80,
   "metadata": {
    "ExecuteTime": {
     "end_time": "2018-03-09T16:18:06.301243Z",
     "start_time": "2018-03-09T16:18:06.090034Z"
    }
   },
   "outputs": [
    {
     "data": {
      "text/html": [
       "<div>\n",
       "<style scoped>\n",
       "    .dataframe tbody tr th:only-of-type {\n",
       "        vertical-align: middle;\n",
       "    }\n",
       "\n",
       "    .dataframe tbody tr th {\n",
       "        vertical-align: top;\n",
       "    }\n",
       "\n",
       "    .dataframe thead th {\n",
       "        text-align: right;\n",
       "    }\n",
       "</style>\n",
       "<table border=\"1\" class=\"dataframe\">\n",
       "  <thead>\n",
       "    <tr style=\"text-align: right;\">\n",
       "      <th>year</th>\n",
       "      <th>2001</th>\n",
       "      <th>2002</th>\n",
       "      <th>2003</th>\n",
       "      <th>2004</th>\n",
       "      <th>2005</th>\n",
       "      <th>2006</th>\n",
       "      <th>2007</th>\n",
       "      <th>2008</th>\n",
       "      <th>2009</th>\n",
       "      <th>2010</th>\n",
       "      <th>2011</th>\n",
       "      <th>2012</th>\n",
       "      <th>2013</th>\n",
       "      <th>2014</th>\n",
       "      <th>2015</th>\n",
       "      <th>2016</th>\n",
       "      <th>2017</th>\n",
       "    </tr>\n",
       "    <tr>\n",
       "      <th>state</th>\n",
       "      <th></th>\n",
       "      <th></th>\n",
       "      <th></th>\n",
       "      <th></th>\n",
       "      <th></th>\n",
       "      <th></th>\n",
       "      <th></th>\n",
       "      <th></th>\n",
       "      <th></th>\n",
       "      <th></th>\n",
       "      <th></th>\n",
       "      <th></th>\n",
       "      <th></th>\n",
       "      <th></th>\n",
       "      <th></th>\n",
       "      <th></th>\n",
       "      <th></th>\n",
       "    </tr>\n",
       "  </thead>\n",
       "  <tbody>\n",
       "    <tr>\n",
       "      <th>VT</th>\n",
       "      <td>8.743736</td>\n",
       "      <td>2.627368</td>\n",
       "      <td>3.897625</td>\n",
       "      <td>3.771958</td>\n",
       "      <td>2.429857</td>\n",
       "      <td>1.476818</td>\n",
       "      <td>1.767715</td>\n",
       "      <td>1.110861</td>\n",
       "      <td>0.996470</td>\n",
       "      <td>1.299876</td>\n",
       "      <td>3.699465</td>\n",
       "      <td>1.945666</td>\n",
       "      <td>2.181743</td>\n",
       "      <td>1.995218</td>\n",
       "      <td>2.324067</td>\n",
       "      <td>3.152369</td>\n",
       "      <td>3.473664</td>\n",
       "    </tr>\n",
       "    <tr>\n",
       "      <th>ID</th>\n",
       "      <td>41.224086</td>\n",
       "      <td>43.663795</td>\n",
       "      <td>61.658292</td>\n",
       "      <td>62.467341</td>\n",
       "      <td>59.917659</td>\n",
       "      <td>41.155225</td>\n",
       "      <td>62.334927</td>\n",
       "      <td>62.409781</td>\n",
       "      <td>55.274896</td>\n",
       "      <td>59.869191</td>\n",
       "      <td>30.078001</td>\n",
       "      <td>52.081016</td>\n",
       "      <td>91.250630</td>\n",
       "      <td>68.401312</td>\n",
       "      <td>99.726957</td>\n",
       "      <td>85.319666</td>\n",
       "      <td>71.727515</td>\n",
       "    </tr>\n",
       "    <tr>\n",
       "      <th>WA</th>\n",
       "      <td>173.633562</td>\n",
       "      <td>113.274490</td>\n",
       "      <td>150.414143</td>\n",
       "      <td>142.676842</td>\n",
       "      <td>145.794267</td>\n",
       "      <td>92.678299</td>\n",
       "      <td>115.408311</td>\n",
       "      <td>120.514381</td>\n",
       "      <td>127.461321</td>\n",
       "      <td>134.104207</td>\n",
       "      <td>65.859107</td>\n",
       "      <td>53.998259</td>\n",
       "      <td>105.457490</td>\n",
       "      <td>100.622720</td>\n",
       "      <td>101.152979</td>\n",
       "      <td>82.623000</td>\n",
       "      <td>87.188693</td>\n",
       "    </tr>\n",
       "    <tr>\n",
       "      <th>NH</th>\n",
       "      <td>307.386766</td>\n",
       "      <td>302.778174</td>\n",
       "      <td>368.752308</td>\n",
       "      <td>351.076469</td>\n",
       "      <td>347.602944</td>\n",
       "      <td>321.294057</td>\n",
       "      <td>295.528926</td>\n",
       "      <td>287.338168</td>\n",
       "      <td>269.835337</td>\n",
       "      <td>247.668650</td>\n",
       "      <td>258.123841</td>\n",
       "      <td>226.484810</td>\n",
       "      <td>174.072251</td>\n",
       "      <td>171.495084</td>\n",
       "      <td>178.883640</td>\n",
       "      <td>125.623186</td>\n",
       "      <td>108.926910</td>\n",
       "    </tr>\n",
       "    <tr>\n",
       "      <th>OR</th>\n",
       "      <td>208.215535</td>\n",
       "      <td>147.203056</td>\n",
       "      <td>187.189972</td>\n",
       "      <td>177.197624</td>\n",
       "      <td>189.193400</td>\n",
       "      <td>139.267282</td>\n",
       "      <td>195.526393</td>\n",
       "      <td>190.392149</td>\n",
       "      <td>173.988571</td>\n",
       "      <td>192.524596</td>\n",
       "      <td>112.124000</td>\n",
       "      <td>122.914629</td>\n",
       "      <td>163.462912</td>\n",
       "      <td>143.742115</td>\n",
       "      <td>161.691698</td>\n",
       "      <td>138.396176</td>\n",
       "      <td>112.772948</td>\n",
       "    </tr>\n",
       "  </tbody>\n",
       "</table>\n",
       "</div>"
      ],
      "text/plain": [
       "year         2001        2002        2003        2004        2005        2006  \\\n",
       "state                                                                           \n",
       "VT       8.743736    2.627368    3.897625    3.771958    2.429857    1.476818   \n",
       "ID      41.224086   43.663795   61.658292   62.467341   59.917659   41.155225   \n",
       "WA     173.633562  113.274490  150.414143  142.676842  145.794267   92.678299   \n",
       "NH     307.386766  302.778174  368.752308  351.076469  347.602944  321.294057   \n",
       "OR     208.215535  147.203056  187.189972  177.197624  189.193400  139.267282   \n",
       "\n",
       "year         2007        2008        2009        2010        2011        2012  \\\n",
       "state                                                                           \n",
       "VT       1.767715    1.110861    0.996470    1.299876    3.699465    1.945666   \n",
       "ID      62.334927   62.409781   55.274896   59.869191   30.078001   52.081016   \n",
       "WA     115.408311  120.514381  127.461321  134.104207   65.859107   53.998259   \n",
       "NH     295.528926  287.338168  269.835337  247.668650  258.123841  226.484810   \n",
       "OR     195.526393  190.392149  173.988571  192.524596  112.124000  122.914629   \n",
       "\n",
       "year         2013        2014        2015        2016        2017  \n",
       "state                                                              \n",
       "VT       2.181743    1.995218    2.324067    3.152369    3.473664  \n",
       "ID      91.250630   68.401312   99.726957   85.319666   71.727515  \n",
       "WA     105.457490  100.622720  101.152979   82.623000   87.188693  \n",
       "NH     174.072251  171.495084  178.883640  125.623186  108.926910  \n",
       "OR     163.462912  143.742115  161.691698  138.396176  112.772948  "
      ]
     },
     "execution_count": 80,
     "metadata": {},
     "output_type": "execute_result"
    }
   ],
   "source": [
    "barbell_index = annual_index.pivot_table(values='index (g/kwh)',\n",
    "                                         index='state', columns='year')\n",
    "barbell_index.sort_values(by=[2017], inplace=True)\n",
    "barbell_index.head()"
   ]
  },
  {
   "cell_type": "code",
   "execution_count": 136,
   "metadata": {},
   "outputs": [
    {
     "data": {
      "text/plain": [
       "23"
      ]
     },
     "execution_count": 136,
     "metadata": {},
     "output_type": "execute_result"
    }
   ],
   "source": [
    "len([x for x in rps_start.values() if x <=2008])"
   ]
  },
  {
   "cell_type": "code",
   "execution_count": 135,
   "metadata": {},
   "outputs": [
    {
     "data": {
      "text/plain": [
       "{'AZ': 2001,\n",
       " 'CA': 2004,\n",
       " 'CO': 2007,\n",
       " 'CT': 2004,\n",
       " 'DC': 2007,\n",
       " 'DE': 2007,\n",
       " 'HI': 2005,\n",
       " 'IA': 1999,\n",
       " 'IL': 2008,\n",
       " 'KS': 2011,\n",
       " 'MA': 2003,\n",
       " 'MD': 2006,\n",
       " 'ME': 2000,\n",
       " 'MI': 2012,\n",
       " 'MN': 2002,\n",
       " 'MO': 2011,\n",
       " 'MT': 2008,\n",
       " 'NC': 2010,\n",
       " 'NH': 2008,\n",
       " 'NJ': 2001,\n",
       " 'NM': 2006,\n",
       " 'NV': 2003,\n",
       " 'NY': 2006,\n",
       " 'OH': 2009,\n",
       " 'OR': 2011,\n",
       " 'PA': 2006,\n",
       " 'RI': 2007,\n",
       " 'TX': 2002,\n",
       " 'WA': 2012,\n",
       " 'WI': 2000}"
      ]
     },
     "execution_count": 135,
     "metadata": {},
     "output_type": "execute_result"
    }
   ],
   "source": [
    "rps_start"
   ]
  },
  {
   "cell_type": "code",
   "execution_count": 133,
   "metadata": {
    "ExecuteTime": {
     "end_time": "2018-03-07T21:12:42.628341Z",
     "start_time": "2018-03-07T21:12:40.504975Z"
    }
   },
   "outputs": [
    {
     "data": {
      "image/png": "[encoded data removed]",
      "text/plain": [
       "<Figure size 360x648 with 1 Axes>"
      ]
     },
     "metadata": {},
     "output_type": "display_data"
    }
   ],
   "source": [
    "states_index = list(barbell_index.index)\n",
    "\n",
    "dumbell_plot(barbell_index, [2001, 2008, 2017], states_index, \n",
    "             legend_loc=[500, 300, 100], rps_legend=True,\n",
    "             rps_start=rps_start, palette='colorblind')\n",
    "\n",
    "plt.vlines(439, -1, 50, colors=['0.5'], zorder=1, #linestyles='dashed',\n",
    "           linewidth=1)\n",
    "\n",
    "plt.ylim(-1, 53)\n",
    "# plt.text(x=200, y=40, s='2017\\nNational Average\\n(439 g CO$_2$ $\\mathregular{kWh^{-1}}$)',\n",
    "#          ha='center', va='center', size=11)\n",
    "plt.text(x=680, y=3, s='2017\\nNational Average\\n(439 g CO$_2$ $\\mathregular{kWh^{-1}}$)',\n",
    "         ha='center', va='center', size=11)\n",
    "sns.despine(left=True)\n",
    "plt.xlabel('g CO$_2$ $\\mathregular{kWh^{-1}}$')\n",
    "\n",
    "# label as part of a larger figure\n",
    "plt.text(-0.02, 0.89, s='a)', ha='right', size=11, transform=ax.transAxes)\n",
    "\n",
    "path = join(cwd, '..', 'Figures',\n",
    "            'State CO2 intensity {}.pdf'.format(file_date))\n",
    "plt.savefig(path, bbox_inches='tight')"
   ]
  },
  {
   "cell_type": "code",
   "execution_count": 43,
   "metadata": {},
   "outputs": [],
   "source": [
    "barbell_index.loc['USA', 2001] = 630\n",
    "barbell_index.loc['USA', 2008] = 580\n",
    "barbell_index.loc['USA', 2017] = 439\n",
    "barbell_index.sort_values(by=[2017], inplace=True)"
   ]
  },
  {
   "cell_type": "code",
   "execution_count": 44,
   "metadata": {
    "ExecuteTime": {
     "end_time": "2018-03-07T21:12:42.628341Z",
     "start_time": "2018-03-07T21:12:40.504975Z"
    }
   },
   "outputs": [
    {
     "data": {
      "image/png": "[encoded data removed]",
      "text/plain": [
       "<Figure size 360x648 with 1 Axes>"
      ]
     },
     "metadata": {},
     "output_type": "display_data"
    }
   ],
   "source": [
    "states_index = list(barbell_index.index)\n",
    "\n",
    "dumbell_plot(barbell_index, [2001, 2008, 2017], states_index, \n",
    "             legend_loc=[500, 300, 100],\n",
    "             rps_start=rps_start, palette='colorblind')\n",
    "\n",
    "plt.vlines(439, -1, 50, colors=['0.5'], zorder=1, #linestyles='dashed',\n",
    "           linewidth=1)\n",
    "\n",
    "plt.ylim(-1, 53)\n",
    "plt.text(x=200, y=40, s='2017\\nNational Average\\n(439 g CO$_2$ $\\mathregular{kWh^{-1}}$)',\n",
    "         ha='center', size=11)\n",
    "sns.despine(left=True)\n",
    "plt.xlabel('g CO$_2$ $\\mathregular{kWh^{-1}}$')\n",
    "path = join(cwd, '..', 'Figures',\n",
    "            'State CO2 intensity {}.pdf'.format('David Hawkins'))\n",
    "plt.savefig(path, bbox_inches='tight')"
   ]
  },
  {
   "cell_type": "markdown",
   "metadata": {},
   "source": [
    "## Largest and smallest changes"
   ]
  },
  {
   "cell_type": "code",
   "execution_count": 15,
   "metadata": {
    "ExecuteTime": {
     "end_time": "2018-03-07T21:15:23.668653Z",
     "start_time": "2018-03-07T21:15:23.664033Z"
    }
   },
   "outputs": [],
   "source": [
    "barbell_index['change'] = barbell_index[2017] - barbell_index[2001]\n",
    "barbell_index['% change'] = barbell_index['change'] / barbell_index[2001]"
   ]
  },
  {
   "cell_type": "code",
   "execution_count": 16,
   "metadata": {
    "ExecuteTime": {
     "end_time": "2018-03-07T21:15:26.545372Z",
     "start_time": "2018-03-07T21:15:26.536847Z"
    }
   },
   "outputs": [
    {
     "name": "stdout",
     "output_type": "stream",
     "text": [
      "The largest absolute reduction is -466.4 g/kWh in DE, from 880.0 to 413.7\n"
     ]
    }
   ],
   "source": [
    "max_change_state = barbell_index.sort_values('change').index[0]\n",
    "max_change_value = barbell_index.sort_values('change')['change'].values[0]\n",
    "start = barbell_index.loc[max_change_state, 2001]\n",
    "end = barbell_index.loc[max_change_state, 2017]\n",
    "print('The largest absolute reduction is {:0.1f} g/kWh in {}, from {:.1f} to {:.1f}'\n",
    "      .format(max_change_value, max_change_state, start, end))"
   ]
  },
  {
   "cell_type": "code",
   "execution_count": 17,
   "metadata": {
    "ExecuteTime": {
     "end_time": "2018-03-07T21:13:09.632311Z",
     "start_time": "2018-03-07T21:13:09.620952Z"
    }
   },
   "outputs": [
    {
     "name": "stdout",
     "output_type": "stream",
     "text": [
      "The smallest absolute reduction is 30.5 g/kWh in ID, from 41.2 to 71.7\n"
     ]
    }
   ],
   "source": [
    "min_change_state = barbell_index.sort_values('change').index[-1]\n",
    "min_change_value = barbell_index.sort_values('change')['change'].values[-1]\n",
    "start = barbell_index.loc[min_change_state, 2001]\n",
    "end = barbell_index.loc[min_change_state, 2017]\n",
    "print('The smallest absolute reduction is {:0.1f} g/kWh in {}, from {:.1f} to {:.1f}'\n",
    "      .format(min_change_value, min_change_state, start, end))"
   ]
  },
  {
   "cell_type": "code",
   "execution_count": 18,
   "metadata": {
    "ExecuteTime": {
     "end_time": "2018-03-07T21:13:09.645642Z",
     "start_time": "2018-03-07T21:13:09.634867Z"
    }
   },
   "outputs": [
    {
     "name": "stdout",
     "output_type": "stream",
     "text": [
      "The largest relative reduction is -64.6% g/kWh in NH, from 307.4 to 108.9\n"
     ]
    }
   ],
   "source": [
    "max_relchange_state = barbell_index.sort_values('% change').index[0]\n",
    "max_relchange_value = barbell_index.sort_values('% change')['% change'].values[0]\n",
    "start = barbell_index.loc[max_relchange_state, 2001]\n",
    "end = barbell_index.loc[max_relchange_state, 2017]\n",
    "print('The largest relative reduction is {:0.1%} g/kWh in {}, from {:.1f} to {:.1f}'\n",
    "      .format(max_relchange_value, max_relchange_state, start, end))"
   ]
  },
  {
   "cell_type": "code",
   "execution_count": 19,
   "metadata": {
    "ExecuteTime": {
     "end_time": "2018-03-07T21:13:09.658426Z",
     "start_time": "2018-03-07T21:13:09.648255Z"
    }
   },
   "outputs": [
    {
     "name": "stdout",
     "output_type": "stream",
     "text": [
      "The smallest relative reduction is 74.0% g/kWh in ID, from 41.2 to 71.7\n"
     ]
    }
   ],
   "source": [
    "min_relchange_state = barbell_index.sort_values('% change').index[-1]\n",
    "min_relchange_value = barbell_index.sort_values('% change')['% change'].values[-1]\n",
    "start = barbell_index.loc[min_relchange_state, 2001]\n",
    "end = barbell_index.loc[min_relchange_state, 2017]\n",
    "print('The smallest relative reduction is {:0.1%} g/kWh in {}, from {:.1f} to {:.1f}'\n",
    "      .format(min_relchange_value, min_relchange_state, start, end))"
   ]
  },
  {
   "cell_type": "markdown",
   "metadata": {},
   "source": [
    "## Population"
   ]
  },
  {
   "cell_type": "code",
   "execution_count": 45,
   "metadata": {
    "ExecuteTime": {
     "end_time": "2018-03-07T21:28:27.056486Z",
     "start_time": "2018-03-07T21:28:27.030343Z"
    }
   },
   "outputs": [],
   "source": [
    "path = os.path.join(base_path, 'Data storage', 'Derived data',\n",
    "                    'State population.csv')\n",
    "pop = pd.read_csv(path)\n",
    "pop.columns = pop.columns.str.lower()"
   ]
  },
  {
   "cell_type": "code",
   "execution_count": 46,
   "metadata": {
    "ExecuteTime": {
     "end_time": "2018-03-07T21:28:29.529513Z",
     "start_time": "2018-03-07T21:28:29.516938Z"
    }
   },
   "outputs": [
    {
     "data": {
      "text/html": [
       "<div>\n",
       "<style scoped>\n",
       "    .dataframe tbody tr th:only-of-type {\n",
       "        vertical-align: middle;\n",
       "    }\n",
       "\n",
       "    .dataframe tbody tr th {\n",
       "        vertical-align: top;\n",
       "    }\n",
       "\n",
       "    .dataframe thead th {\n",
       "        text-align: right;\n",
       "    }\n",
       "</style>\n",
       "<table border=\"1\" class=\"dataframe\">\n",
       "  <thead>\n",
       "    <tr style=\"text-align: right;\">\n",
       "      <th></th>\n",
       "      <th>state</th>\n",
       "      <th>year</th>\n",
       "      <th>population</th>\n",
       "    </tr>\n",
       "  </thead>\n",
       "  <tbody>\n",
       "    <tr>\n",
       "      <th>0</th>\n",
       "      <td>United States</td>\n",
       "      <td>2000</td>\n",
       "      <td>282162411</td>\n",
       "    </tr>\n",
       "    <tr>\n",
       "      <th>1</th>\n",
       "      <td>Alabama</td>\n",
       "      <td>2000</td>\n",
       "      <td>4452173</td>\n",
       "    </tr>\n",
       "    <tr>\n",
       "      <th>2</th>\n",
       "      <td>Alaska</td>\n",
       "      <td>2000</td>\n",
       "      <td>627963</td>\n",
       "    </tr>\n",
       "    <tr>\n",
       "      <th>3</th>\n",
       "      <td>Arizona</td>\n",
       "      <td>2000</td>\n",
       "      <td>5160586</td>\n",
       "    </tr>\n",
       "    <tr>\n",
       "      <th>4</th>\n",
       "      <td>Arkansas</td>\n",
       "      <td>2000</td>\n",
       "      <td>2678588</td>\n",
       "    </tr>\n",
       "  </tbody>\n",
       "</table>\n",
       "</div>"
      ],
      "text/plain": [
       "           state  year  population\n",
       "0  United States  2000   282162411\n",
       "1        Alabama  2000     4452173\n",
       "2         Alaska  2000      627963\n",
       "3        Arizona  2000     5160586\n",
       "4       Arkansas  2000     2678588"
      ]
     },
     "execution_count": 46,
     "metadata": {},
     "output_type": "execute_result"
    }
   ],
   "source": [
    "pop.head()"
   ]
  },
  {
   "cell_type": "code",
   "execution_count": 47,
   "metadata": {
    "ExecuteTime": {
     "end_time": "2018-03-07T21:28:35.171808Z",
     "start_time": "2018-03-07T21:28:35.159348Z"
    }
   },
   "outputs": [
    {
     "data": {
      "text/html": [
       "<div>\n",
       "<style scoped>\n",
       "    .dataframe tbody tr th:only-of-type {\n",
       "        vertical-align: middle;\n",
       "    }\n",
       "\n",
       "    .dataframe tbody tr th {\n",
       "        vertical-align: top;\n",
       "    }\n",
       "\n",
       "    .dataframe thead th {\n",
       "        text-align: right;\n",
       "    }\n",
       "</style>\n",
       "<table border=\"1\" class=\"dataframe\">\n",
       "  <thead>\n",
       "    <tr style=\"text-align: right;\">\n",
       "      <th></th>\n",
       "      <th>state</th>\n",
       "      <th>year</th>\n",
       "      <th>population</th>\n",
       "    </tr>\n",
       "  </thead>\n",
       "  <tbody>\n",
       "    <tr>\n",
       "      <th>930</th>\n",
       "      <td>Virginia</td>\n",
       "      <td>2017</td>\n",
       "      <td>8470020</td>\n",
       "    </tr>\n",
       "    <tr>\n",
       "      <th>931</th>\n",
       "      <td>Washington</td>\n",
       "      <td>2017</td>\n",
       "      <td>7405743</td>\n",
       "    </tr>\n",
       "    <tr>\n",
       "      <th>932</th>\n",
       "      <td>West Virginia</td>\n",
       "      <td>2017</td>\n",
       "      <td>1815857</td>\n",
       "    </tr>\n",
       "    <tr>\n",
       "      <th>933</th>\n",
       "      <td>Wisconsin</td>\n",
       "      <td>2017</td>\n",
       "      <td>5795483</td>\n",
       "    </tr>\n",
       "    <tr>\n",
       "      <th>934</th>\n",
       "      <td>Wyoming</td>\n",
       "      <td>2017</td>\n",
       "      <td>579315</td>\n",
       "    </tr>\n",
       "  </tbody>\n",
       "</table>\n",
       "</div>"
      ],
      "text/plain": [
       "             state  year  population\n",
       "930       Virginia  2017     8470020\n",
       "931     Washington  2017     7405743\n",
       "932  West Virginia  2017     1815857\n",
       "933      Wisconsin  2017     5795483\n",
       "934        Wyoming  2017      579315"
      ]
     },
     "execution_count": 47,
     "metadata": {},
     "output_type": "execute_result"
    }
   ],
   "source": [
    "pop.tail()"
   ]
  },
  {
   "cell_type": "code",
   "execution_count": 48,
   "metadata": {
    "ExecuteTime": {
     "end_time": "2018-03-07T21:28:43.234668Z",
     "start_time": "2018-03-07T21:28:43.228735Z"
    }
   },
   "outputs": [],
   "source": [
    "pop['state'] = pop['state'].map(us_state_abbrev)"
   ]
  },
  {
   "cell_type": "code",
   "execution_count": 49,
   "metadata": {
    "ExecuteTime": {
     "end_time": "2018-03-07T21:28:44.166772Z",
     "start_time": "2018-03-07T21:28:44.154625Z"
    }
   },
   "outputs": [
    {
     "data": {
      "text/html": [
       "<div>\n",
       "<style scoped>\n",
       "    .dataframe tbody tr th:only-of-type {\n",
       "        vertical-align: middle;\n",
       "    }\n",
       "\n",
       "    .dataframe tbody tr th {\n",
       "        vertical-align: top;\n",
       "    }\n",
       "\n",
       "    .dataframe thead th {\n",
       "        text-align: right;\n",
       "    }\n",
       "</style>\n",
       "<table border=\"1\" class=\"dataframe\">\n",
       "  <thead>\n",
       "    <tr style=\"text-align: right;\">\n",
       "      <th></th>\n",
       "      <th>state</th>\n",
       "      <th>year</th>\n",
       "      <th>population</th>\n",
       "    </tr>\n",
       "  </thead>\n",
       "  <tbody>\n",
       "    <tr>\n",
       "      <th>0</th>\n",
       "      <td>US</td>\n",
       "      <td>2000</td>\n",
       "      <td>282162411</td>\n",
       "    </tr>\n",
       "    <tr>\n",
       "      <th>1</th>\n",
       "      <td>AL</td>\n",
       "      <td>2000</td>\n",
       "      <td>4452173</td>\n",
       "    </tr>\n",
       "    <tr>\n",
       "      <th>2</th>\n",
       "      <td>AK</td>\n",
       "      <td>2000</td>\n",
       "      <td>627963</td>\n",
       "    </tr>\n",
       "    <tr>\n",
       "      <th>3</th>\n",
       "      <td>AZ</td>\n",
       "      <td>2000</td>\n",
       "      <td>5160586</td>\n",
       "    </tr>\n",
       "    <tr>\n",
       "      <th>4</th>\n",
       "      <td>AR</td>\n",
       "      <td>2000</td>\n",
       "      <td>2678588</td>\n",
       "    </tr>\n",
       "  </tbody>\n",
       "</table>\n",
       "</div>"
      ],
      "text/plain": [
       "  state  year  population\n",
       "0    US  2000   282162411\n",
       "1    AL  2000     4452173\n",
       "2    AK  2000      627963\n",
       "3    AZ  2000     5160586\n",
       "4    AR  2000     2678588"
      ]
     },
     "execution_count": 49,
     "metadata": {},
     "output_type": "execute_result"
    }
   ],
   "source": [
    "pop.head()"
   ]
  },
  {
   "cell_type": "code",
   "execution_count": 50,
   "metadata": {
    "ExecuteTime": {
     "end_time": "2018-03-07T21:28:47.834640Z",
     "start_time": "2018-03-07T21:28:47.820654Z"
    }
   },
   "outputs": [],
   "source": [
    "annual_index_pop = annual_index.reset_index().merge(pop, on=['state', 'year'])"
   ]
  },
  {
   "cell_type": "code",
   "execution_count": 51,
   "metadata": {
    "ExecuteTime": {
     "end_time": "2018-03-07T21:28:49.428169Z",
     "start_time": "2018-03-07T21:28:49.413203Z"
    }
   },
   "outputs": [
    {
     "data": {
      "text/html": [
       "<div>\n",
       "<style scoped>\n",
       "    .dataframe tbody tr th:only-of-type {\n",
       "        vertical-align: middle;\n",
       "    }\n",
       "\n",
       "    .dataframe tbody tr th {\n",
       "        vertical-align: top;\n",
       "    }\n",
       "\n",
       "    .dataframe thead th {\n",
       "        text-align: right;\n",
       "    }\n",
       "</style>\n",
       "<table border=\"1\" class=\"dataframe\">\n",
       "  <thead>\n",
       "    <tr style=\"text-align: right;\">\n",
       "      <th></th>\n",
       "      <th>state</th>\n",
       "      <th>year</th>\n",
       "      <th>final co2 (kg)</th>\n",
       "      <th>generation (mwh)</th>\n",
       "      <th>index (g/kwh)</th>\n",
       "      <th>population</th>\n",
       "    </tr>\n",
       "  </thead>\n",
       "  <tbody>\n",
       "    <tr>\n",
       "      <th>0</th>\n",
       "      <td>AK</td>\n",
       "      <td>2001</td>\n",
       "      <td>4.192039e+09</td>\n",
       "      <td>6743766.00</td>\n",
       "      <td>621.616856</td>\n",
       "      <td>633714</td>\n",
       "    </tr>\n",
       "    <tr>\n",
       "      <th>1</th>\n",
       "      <td>AK</td>\n",
       "      <td>2002</td>\n",
       "      <td>3.829402e+09</td>\n",
       "      <td>6767322.00</td>\n",
       "      <td>565.866731</td>\n",
       "      <td>642337</td>\n",
       "    </tr>\n",
       "    <tr>\n",
       "      <th>2</th>\n",
       "      <td>AK</td>\n",
       "      <td>2003</td>\n",
       "      <td>3.474714e+09</td>\n",
       "      <td>6338738.00</td>\n",
       "      <td>548.171264</td>\n",
       "      <td>648414</td>\n",
       "    </tr>\n",
       "    <tr>\n",
       "      <th>3</th>\n",
       "      <td>AK</td>\n",
       "      <td>2004</td>\n",
       "      <td>3.492109e+09</td>\n",
       "      <td>6526716.92</td>\n",
       "      <td>535.048356</td>\n",
       "      <td>659286</td>\n",
       "    </tr>\n",
       "    <tr>\n",
       "      <th>4</th>\n",
       "      <td>AK</td>\n",
       "      <td>2005</td>\n",
       "      <td>3.531411e+09</td>\n",
       "      <td>6576658.54</td>\n",
       "      <td>536.961208</td>\n",
       "      <td>666946</td>\n",
       "    </tr>\n",
       "  </tbody>\n",
       "</table>\n",
       "</div>"
      ],
      "text/plain": [
       "  state  year  final co2 (kg)  generation (mwh)  index (g/kwh)  population\n",
       "0    AK  2001    4.192039e+09        6743766.00     621.616856      633714\n",
       "1    AK  2002    3.829402e+09        6767322.00     565.866731      642337\n",
       "2    AK  2003    3.474714e+09        6338738.00     548.171264      648414\n",
       "3    AK  2004    3.492109e+09        6526716.92     535.048356      659286\n",
       "4    AK  2005    3.531411e+09        6576658.54     536.961208      666946"
      ]
     },
     "execution_count": 51,
     "metadata": {},
     "output_type": "execute_result"
    }
   ],
   "source": [
    "annual_index_pop.head()"
   ]
  },
  {
   "cell_type": "code",
   "execution_count": 52,
   "metadata": {
    "ExecuteTime": {
     "end_time": "2018-03-07T21:29:01.234027Z",
     "start_time": "2018-03-07T21:29:01.223106Z"
    }
   },
   "outputs": [],
   "source": [
    "annual_index_pop['tonne CO2/pop'] = (annual_index_pop['final co2 (kg)']\n",
    "                                         / 1000\n",
    "                                         / annual_index_pop['population'])\n",
    "annual_index_pop['MWh/pop'] = (annual_index_pop.loc[:, 'generation (mwh)']\n",
    "                                         / annual_index_pop['population'])"
   ]
  },
  {
   "cell_type": "code",
   "execution_count": 53,
   "metadata": {
    "ExecuteTime": {
     "end_time": "2018-03-07T21:29:06.704260Z",
     "start_time": "2018-03-07T21:29:06.642116Z"
    }
   },
   "outputs": [
    {
     "data": {
      "text/html": [
       "<div>\n",
       "<style scoped>\n",
       "    .dataframe tbody tr th:only-of-type {\n",
       "        vertical-align: middle;\n",
       "    }\n",
       "\n",
       "    .dataframe tbody tr th {\n",
       "        vertical-align: top;\n",
       "    }\n",
       "\n",
       "    .dataframe thead th {\n",
       "        text-align: right;\n",
       "    }\n",
       "</style>\n",
       "<table border=\"1\" class=\"dataframe\">\n",
       "  <thead>\n",
       "    <tr style=\"text-align: right;\">\n",
       "      <th></th>\n",
       "      <th>year</th>\n",
       "      <th>final co2 (kg)</th>\n",
       "      <th>generation (mwh)</th>\n",
       "      <th>index (g/kwh)</th>\n",
       "      <th>population</th>\n",
       "      <th>tonne CO2/pop</th>\n",
       "      <th>MWh/pop</th>\n",
       "    </tr>\n",
       "  </thead>\n",
       "  <tbody>\n",
       "    <tr>\n",
       "      <th>count</th>\n",
       "      <td>850.000000</td>\n",
       "      <td>8.500000e+02</td>\n",
       "      <td>8.500000e+02</td>\n",
       "      <td>850.000000</td>\n",
       "      <td>8.500000e+02</td>\n",
       "      <td>850.000000</td>\n",
       "      <td>850.000000</td>\n",
       "    </tr>\n",
       "    <tr>\n",
       "      <th>mean</th>\n",
       "      <td>2009.000000</td>\n",
       "      <td>4.425946e+10</td>\n",
       "      <td>8.056302e+07</td>\n",
       "      <td>547.438394</td>\n",
       "      <td>6.106634e+06</td>\n",
       "      <td>10.669395</td>\n",
       "      <td>16.792258</td>\n",
       "    </tr>\n",
       "    <tr>\n",
       "      <th>std</th>\n",
       "      <td>4.901864</td>\n",
       "      <td>4.218201e+10</td>\n",
       "      <td>7.348272e+07</td>\n",
       "      <td>246.740510</td>\n",
       "      <td>6.752970e+06</td>\n",
       "      <td>13.539141</td>\n",
       "      <td>13.050768</td>\n",
       "    </tr>\n",
       "    <tr>\n",
       "      <th>min</th>\n",
       "      <td>2001.000000</td>\n",
       "      <td>4.732677e+06</td>\n",
       "      <td>1.986881e+06</td>\n",
       "      <td>0.996470</td>\n",
       "      <td>4.946570e+05</td>\n",
       "      <td>0.007559</td>\n",
       "      <td>3.181076</td>\n",
       "    </tr>\n",
       "    <tr>\n",
       "      <th>10%</th>\n",
       "      <td>2002.000000</td>\n",
       "      <td>3.530592e+09</td>\n",
       "      <td>1.043385e+07</td>\n",
       "      <td>209.386261</td>\n",
       "      <td>8.451272e+05</td>\n",
       "      <td>1.904900</td>\n",
       "      <td>7.319306</td>\n",
       "    </tr>\n",
       "    <tr>\n",
       "      <th>25%</th>\n",
       "      <td>2005.000000</td>\n",
       "      <td>1.461421e+10</td>\n",
       "      <td>3.364504e+07</td>\n",
       "      <td>402.071114</td>\n",
       "      <td>1.802464e+06</td>\n",
       "      <td>3.828428</td>\n",
       "      <td>9.933583</td>\n",
       "    </tr>\n",
       "    <tr>\n",
       "      <th>50%</th>\n",
       "      <td>2009.000000</td>\n",
       "      <td>3.529086e+10</td>\n",
       "      <td>5.773346e+07</td>\n",
       "      <td>547.382227</td>\n",
       "      <td>4.363600e+06</td>\n",
       "      <td>7.615839</td>\n",
       "      <td>14.472842</td>\n",
       "    </tr>\n",
       "    <tr>\n",
       "      <th>max</th>\n",
       "      <td>2017.000000</td>\n",
       "      <td>2.486620e+11</td>\n",
       "      <td>4.544390e+08</td>\n",
       "      <td>1111.411905</td>\n",
       "      <td>3.953665e+07</td>\n",
       "      <td>96.738933</td>\n",
       "      <td>90.521185</td>\n",
       "    </tr>\n",
       "  </tbody>\n",
       "</table>\n",
       "</div>"
      ],
      "text/plain": [
       "              year  final co2 (kg)  generation (mwh)  index (g/kwh)  \\\n",
       "count   850.000000    8.500000e+02      8.500000e+02     850.000000   \n",
       "mean   2009.000000    4.425946e+10      8.056302e+07     547.438394   \n",
       "std       4.901864    4.218201e+10      7.348272e+07     246.740510   \n",
       "min    2001.000000    4.732677e+06      1.986881e+06       0.996470   \n",
       "10%    2002.000000    3.530592e+09      1.043385e+07     209.386261   \n",
       "25%    2005.000000    1.461421e+10      3.364504e+07     402.071114   \n",
       "50%    2009.000000    3.529086e+10      5.773346e+07     547.382227   \n",
       "max    2017.000000    2.486620e+11      4.544390e+08    1111.411905   \n",
       "\n",
       "         population  tonne CO2/pop     MWh/pop  \n",
       "count  8.500000e+02     850.000000  850.000000  \n",
       "mean   6.106634e+06      10.669395   16.792258  \n",
       "std    6.752970e+06      13.539141   13.050768  \n",
       "min    4.946570e+05       0.007559    3.181076  \n",
       "10%    8.451272e+05       1.904900    7.319306  \n",
       "25%    1.802464e+06       3.828428    9.933583  \n",
       "50%    4.363600e+06       7.615839   14.472842  \n",
       "max    3.953665e+07      96.738933   90.521185  "
      ]
     },
     "execution_count": 53,
     "metadata": {},
     "output_type": "execute_result"
    }
   ],
   "source": [
    "annual_index_pop.describe(percentiles=[.1, .25])"
   ]
  },
  {
   "cell_type": "code",
   "execution_count": 101,
   "metadata": {
    "ExecuteTime": {
     "end_time": "2018-03-07T21:30:26.782127Z",
     "start_time": "2018-03-07T21:30:24.515715Z"
    }
   },
   "outputs": [
    {
     "data": {
      "image/png": "[encoded data removed]",
      "text/plain": [
       "<Figure size 360x648 with 1 Axes>"
      ]
     },
     "metadata": {},
     "output_type": "display_data"
    }
   ],
   "source": [
    "barbell_pop = annual_index_pop.pivot_table(values='tonne CO2/pop',\n",
    "                                              index='state', columns='year')\n",
    "barbell_pop.sort_values(by=2017, inplace=True)\n",
    "barbell_pop.drop(['WY', 'ND', 'WV'], inplace=True)\n",
    "\n",
    "# states_pop = ['{}  '.format(x) for x in barbell_pop.index]\n",
    "states_pop = list(barbell_pop.index)\n",
    "# rps_states = list(rps_tidy['state'].unique())\n",
    "\n",
    "dumbell_plot(barbell_pop, [2001, 2008, 2017], states_pop, offset_divider=30,\n",
    "             rps_start=rps_start, legend=False, palette='colorblind')\n",
    "\n",
    "plt.ylim(-1, 53)\n",
    "plt.xlim(None, 25)\n",
    "\n",
    "sns.despine(left=True)\n",
    "plt.xlabel('Tonne $\\mathregular{CO_2 \\ Capita^{-1}}$')\n",
    "\n",
    "# label as part of a larger figure\n",
    "plt.text(-0.02, 0.89, s='b)', ha='right', size=11, transform=ax.transAxes)\n",
    "\n",
    "path = join(fig_export_path,\n",
    "            'State CO2 per capita {}.pdf'.format(file_date))\n",
    "plt.savefig(path, bbox_inches='tight')"
   ]
  },
  {
   "cell_type": "code",
   "execution_count": 77,
   "metadata": {
    "ExecuteTime": {
     "end_time": "2018-03-07T21:31:21.269808Z",
     "start_time": "2018-03-07T21:31:20.805731Z"
    }
   },
   "outputs": [
    {
     "data": {
      "image/png": "[encoded data removed]",
      "text/plain": [
       "<Figure size 180x648 with 1 Axes>"
      ]
     },
     "metadata": {},
     "output_type": "display_data"
    }
   ],
   "source": [
    "barbell_pop = annual_index_pop.pivot_table(values='tonne CO2/pop',\n",
    "                                           index='state', columns='year')\n",
    "barbell_pop.sort_values(by=2017, inplace=True)\n",
    "barbell_pop = barbell_pop.loc[['WV', 'ND', 'WY']]\n",
    "\n",
    "states_pop = ['WY', 'ND', 'WV']\n",
    "# rps_states = list(rps_tidy['state'].unique())\n",
    "\n",
    "dumbell_plot(barbell_pop, [2001, 2008, 2017], states_pop, offset_divider=30,\n",
    "             rps_start=rps_start, legend=False, palette='colorblind',\n",
    "             figsize=(2.5, 9))\n",
    "\n",
    "plt.ylim(-1, 53)\n",
    "# plt.xlim(None, 25)\n",
    "\n",
    "sns.despine(left=True)\n",
    "plt.xlabel('Tonne $\\mathregular{CO_2 \\ Capita^{-1}}$')\n",
    "path = join(fig_export_path,\n",
    "            'State CO2 per capita insert {}.pdf'.format(file_date))\n",
    "plt.savefig(path, bbox_inches='tight')"
   ]
  },
  {
   "cell_type": "markdown",
   "metadata": {},
   "source": [
    "## State electricity imports/exports\n",
    "Data is from [EIA State Energy Data System](https://www.eia.gov/state/seds/seds-data-complete.php?sid=US#Consumption). Most recent update was March 9, 2018. Code are described in [EIA documentation](https://www.eia.gov/state/seds/sep_use/notes/use_a.pdf). Negative values indicate flows out of the state."
   ]
  },
  {
   "cell_type": "code",
   "execution_count": 31,
   "metadata": {
    "ExecuteTime": {
     "end_time": "2018-03-12T20:03:08.982903Z",
     "start_time": "2018-03-12T20:03:07.872318Z"
    }
   },
   "outputs": [],
   "source": [
    "path = os.path.join(base_path, 'Data storage', 'State energy flows',\n",
    "                    'use_all_phy_update.csv')\n",
    "flows = pd.read_csv(path)\n",
    "\n",
    "# ELISP is electricity flows\n",
    "flows = flows.loc[flows['MSN'] == 'ELISP']\n",
    "\n",
    "# Drop all years before 2001\n",
    "flows.drop([str(x) for x in range(1960, 2001)], axis=1, inplace=True)\n",
    "flows.drop(['Data_Status', 'MSN'], axis=1, inplace=True)\n",
    "\n",
    "# Electricity flows are given in million kWh (see documentation)\n",
    "flows.loc[:, '2001':] *= 1000\n",
    "\n",
    "flows.columns = flows.columns.str.lower()"
   ]
  },
  {
   "cell_type": "code",
   "execution_count": 32,
   "metadata": {
    "ExecuteTime": {
     "end_time": "2018-03-12T20:03:13.854714Z",
     "start_time": "2018-03-12T20:03:13.844461Z"
    }
   },
   "outputs": [],
   "source": [
    "flows = flows.melt(id_vars='state', var_name='year',\n",
    "                   value_name='MWh flow')\n",
    "flows['year'] = flows['year'].astype(int)"
   ]
  },
  {
   "cell_type": "code",
   "execution_count": 33,
   "metadata": {
    "ExecuteTime": {
     "end_time": "2018-03-12T20:05:29.104048Z",
     "start_time": "2018-03-12T20:05:29.092476Z"
    }
   },
   "outputs": [
    {
     "data": {
      "text/html": [
       "<div>\n",
       "<style scoped>\n",
       "    .dataframe tbody tr th:only-of-type {\n",
       "        vertical-align: middle;\n",
       "    }\n",
       "\n",
       "    .dataframe tbody tr th {\n",
       "        vertical-align: top;\n",
       "    }\n",
       "\n",
       "    .dataframe thead th {\n",
       "        text-align: right;\n",
       "    }\n",
       "</style>\n",
       "<table border=\"1\" class=\"dataframe\">\n",
       "  <thead>\n",
       "    <tr style=\"text-align: right;\">\n",
       "      <th></th>\n",
       "      <th>state</th>\n",
       "      <th>year</th>\n",
       "      <th>MWh flow</th>\n",
       "    </tr>\n",
       "  </thead>\n",
       "  <tbody>\n",
       "    <tr>\n",
       "      <th>827</th>\n",
       "      <td>VT</td>\n",
       "      <td>2016</td>\n",
       "      <td>NaN</td>\n",
       "    </tr>\n",
       "    <tr>\n",
       "      <th>828</th>\n",
       "      <td>WA</td>\n",
       "      <td>2016</td>\n",
       "      <td>NaN</td>\n",
       "    </tr>\n",
       "    <tr>\n",
       "      <th>829</th>\n",
       "      <td>WI</td>\n",
       "      <td>2016</td>\n",
       "      <td>NaN</td>\n",
       "    </tr>\n",
       "    <tr>\n",
       "      <th>830</th>\n",
       "      <td>WV</td>\n",
       "      <td>2016</td>\n",
       "      <td>NaN</td>\n",
       "    </tr>\n",
       "    <tr>\n",
       "      <th>831</th>\n",
       "      <td>WY</td>\n",
       "      <td>2016</td>\n",
       "      <td>NaN</td>\n",
       "    </tr>\n",
       "  </tbody>\n",
       "</table>\n",
       "</div>"
      ],
      "text/plain": [
       "    state  year  MWh flow\n",
       "827    VT  2016       NaN\n",
       "828    WA  2016       NaN\n",
       "829    WI  2016       NaN\n",
       "830    WV  2016       NaN\n",
       "831    WY  2016       NaN"
      ]
     },
     "execution_count": 33,
     "metadata": {},
     "output_type": "execute_result"
    }
   ],
   "source": [
    "flows.tail()"
   ]
  },
  {
   "cell_type": "code",
   "execution_count": 34,
   "metadata": {
    "ExecuteTime": {
     "end_time": "2018-03-12T20:03:34.878743Z",
     "start_time": "2018-03-12T20:03:34.840172Z"
    }
   },
   "outputs": [],
   "source": [
    "annual_index_pop_flows = pd.merge(annual_index_pop, flows, on=['state', 'year'])\n",
    "annual_index_pop_flows['MWh flow/pop'] = (annual_index_pop_flows['MWh flow']\n",
    "                                          / annual_index_pop_flows['population'])\n",
    "annual_index_pop_flows['share flow'] = (annual_index_pop_flows['MWh/pop']\n",
    "                                          / annual_index_pop_flows['MWh flow/pop'])"
   ]
  },
  {
   "cell_type": "code",
   "execution_count": 35,
   "metadata": {
    "ExecuteTime": {
     "end_time": "2018-03-12T20:04:22.516029Z",
     "start_time": "2018-03-12T20:04:22.492522Z"
    }
   },
   "outputs": [
    {
     "data": {
      "text/html": [
       "<div>\n",
       "<style scoped>\n",
       "    .dataframe tbody tr th:only-of-type {\n",
       "        vertical-align: middle;\n",
       "    }\n",
       "\n",
       "    .dataframe tbody tr th {\n",
       "        vertical-align: top;\n",
       "    }\n",
       "\n",
       "    .dataframe thead th {\n",
       "        text-align: right;\n",
       "    }\n",
       "</style>\n",
       "<table border=\"1\" class=\"dataframe\">\n",
       "  <thead>\n",
       "    <tr style=\"text-align: right;\">\n",
       "      <th></th>\n",
       "      <th>state</th>\n",
       "      <th>year</th>\n",
       "      <th>final co2 (kg)</th>\n",
       "      <th>generation (mwh)</th>\n",
       "      <th>index (g/kwh)</th>\n",
       "      <th>population</th>\n",
       "      <th>tonne CO2/pop</th>\n",
       "      <th>MWh/pop</th>\n",
       "      <th>MWh flow</th>\n",
       "      <th>MWh flow/pop</th>\n",
       "      <th>share flow</th>\n",
       "    </tr>\n",
       "  </thead>\n",
       "  <tbody>\n",
       "    <tr>\n",
       "      <th>795</th>\n",
       "      <td>WY</td>\n",
       "      <td>2012</td>\n",
       "      <td>4.610672e+10</td>\n",
       "      <td>49588606.28</td>\n",
       "      <td>929.784645</td>\n",
       "      <td>576765</td>\n",
       "      <td>79.940226</td>\n",
       "      <td>85.977142</td>\n",
       "      <td>-30130000.0</td>\n",
       "      <td>-52.239647</td>\n",
       "      <td>-1.645822</td>\n",
       "    </tr>\n",
       "    <tr>\n",
       "      <th>796</th>\n",
       "      <td>WY</td>\n",
       "      <td>2013</td>\n",
       "      <td>4.886832e+10</td>\n",
       "      <td>52483065.48</td>\n",
       "      <td>931.125515</td>\n",
       "      <td>582684</td>\n",
       "      <td>83.867622</td>\n",
       "      <td>90.071232</td>\n",
       "      <td>-32933000.0</td>\n",
       "      <td>-56.519486</td>\n",
       "      <td>-1.593631</td>\n",
       "    </tr>\n",
       "    <tr>\n",
       "      <th>797</th>\n",
       "      <td>WY</td>\n",
       "      <td>2014</td>\n",
       "      <td>4.506333e+10</td>\n",
       "      <td>49698557.94</td>\n",
       "      <td>906.733105</td>\n",
       "      <td>583642</td>\n",
       "      <td>77.210564</td>\n",
       "      <td>85.152470</td>\n",
       "      <td>-30055000.0</td>\n",
       "      <td>-51.495609</td>\n",
       "      <td>-1.653587</td>\n",
       "    </tr>\n",
       "    <tr>\n",
       "      <th>798</th>\n",
       "      <td>WY</td>\n",
       "      <td>2015</td>\n",
       "      <td>4.567480e+10</td>\n",
       "      <td>48968928.92</td>\n",
       "      <td>932.730320</td>\n",
       "      <td>586555</td>\n",
       "      <td>77.869603</td>\n",
       "      <td>83.485656</td>\n",
       "      <td>-29420000.0</td>\n",
       "      <td>-50.157274</td>\n",
       "      <td>-1.664478</td>\n",
       "    </tr>\n",
       "    <tr>\n",
       "      <th>799</th>\n",
       "      <td>WY</td>\n",
       "      <td>2016</td>\n",
       "      <td>4.273486e+10</td>\n",
       "      <td>46660041.39</td>\n",
       "      <td>915.877066</td>\n",
       "      <td>585501</td>\n",
       "      <td>72.988538</td>\n",
       "      <td>79.692505</td>\n",
       "      <td>NaN</td>\n",
       "      <td>NaN</td>\n",
       "      <td>NaN</td>\n",
       "    </tr>\n",
       "  </tbody>\n",
       "</table>\n",
       "</div>"
      ],
      "text/plain": [
       "    state  year  final co2 (kg)  generation (mwh)  index (g/kwh)  population  \\\n",
       "795    WY  2012    4.610672e+10       49588606.28     929.784645      576765   \n",
       "796    WY  2013    4.886832e+10       52483065.48     931.125515      582684   \n",
       "797    WY  2014    4.506333e+10       49698557.94     906.733105      583642   \n",
       "798    WY  2015    4.567480e+10       48968928.92     932.730320      586555   \n",
       "799    WY  2016    4.273486e+10       46660041.39     915.877066      585501   \n",
       "\n",
       "     tonne CO2/pop    MWh/pop    MWh flow  MWh flow/pop  share flow  \n",
       "795      79.940226  85.977142 -30130000.0    -52.239647   -1.645822  \n",
       "796      83.867622  90.071232 -32933000.0    -56.519486   -1.593631  \n",
       "797      77.210564  85.152470 -30055000.0    -51.495609   -1.653587  \n",
       "798      77.869603  83.485656 -29420000.0    -50.157274   -1.664478  \n",
       "799      72.988538  79.692505         NaN           NaN         NaN  "
      ]
     },
     "execution_count": 35,
     "metadata": {},
     "output_type": "execute_result"
    }
   ],
   "source": [
    "annual_index_pop_flows.tail()"
   ]
  },
  {
   "cell_type": "code",
   "execution_count": 36,
   "metadata": {
    "ExecuteTime": {
     "end_time": "2018-03-12T20:05:08.067638Z",
     "start_time": "2018-03-12T20:05:08.036350Z"
    }
   },
   "outputs": [
    {
     "data": {
      "text/html": [
       "<div>\n",
       "<style scoped>\n",
       "    .dataframe tbody tr th:only-of-type {\n",
       "        vertical-align: middle;\n",
       "    }\n",
       "\n",
       "    .dataframe tbody tr th {\n",
       "        vertical-align: top;\n",
       "    }\n",
       "\n",
       "    .dataframe thead th {\n",
       "        text-align: right;\n",
       "    }\n",
       "</style>\n",
       "<table border=\"1\" class=\"dataframe\">\n",
       "  <thead>\n",
       "    <tr style=\"text-align: right;\">\n",
       "      <th>year</th>\n",
       "      <th>2001</th>\n",
       "      <th>2002</th>\n",
       "      <th>2003</th>\n",
       "      <th>2004</th>\n",
       "      <th>2005</th>\n",
       "      <th>2006</th>\n",
       "      <th>2007</th>\n",
       "      <th>2008</th>\n",
       "      <th>2009</th>\n",
       "      <th>2010</th>\n",
       "      <th>2011</th>\n",
       "      <th>2012</th>\n",
       "      <th>2013</th>\n",
       "      <th>2014</th>\n",
       "      <th>2015</th>\n",
       "    </tr>\n",
       "    <tr>\n",
       "      <th>state</th>\n",
       "      <th></th>\n",
       "      <th></th>\n",
       "      <th></th>\n",
       "      <th></th>\n",
       "      <th></th>\n",
       "      <th></th>\n",
       "      <th></th>\n",
       "      <th></th>\n",
       "      <th></th>\n",
       "      <th></th>\n",
       "      <th></th>\n",
       "      <th></th>\n",
       "      <th></th>\n",
       "      <th></th>\n",
       "      <th></th>\n",
       "    </tr>\n",
       "  </thead>\n",
       "  <tbody>\n",
       "    <tr>\n",
       "      <th>AK</th>\n",
       "      <td>0.000000</td>\n",
       "      <td>0.000000</td>\n",
       "      <td>0.000000</td>\n",
       "      <td>0.000000</td>\n",
       "      <td>0.000000</td>\n",
       "      <td>0.000000</td>\n",
       "      <td>0.000000</td>\n",
       "      <td>0.000000</td>\n",
       "      <td>0.000000</td>\n",
       "      <td>0.000000</td>\n",
       "      <td>0.000000</td>\n",
       "      <td>0.000000</td>\n",
       "      <td>0.000000</td>\n",
       "      <td>0.000000</td>\n",
       "      <td>0.000000</td>\n",
       "    </tr>\n",
       "    <tr>\n",
       "      <th>AL</th>\n",
       "      <td>-7.835467</td>\n",
       "      <td>-8.475724</td>\n",
       "      <td>-9.253044</td>\n",
       "      <td>-8.264674</td>\n",
       "      <td>-8.455503</td>\n",
       "      <td>-8.083637</td>\n",
       "      <td>-8.581933</td>\n",
       "      <td>-9.436638</td>\n",
       "      <td>-10.417118</td>\n",
       "      <td>-10.419200</td>\n",
       "      <td>-11.692700</td>\n",
       "      <td>-11.484522</td>\n",
       "      <td>-10.776732</td>\n",
       "      <td>-9.903135</td>\n",
       "      <td>-10.978857</td>\n",
       "    </tr>\n",
       "    <tr>\n",
       "      <th>AR</th>\n",
       "      <td>-0.247439</td>\n",
       "      <td>0.073173</td>\n",
       "      <td>-0.761886</td>\n",
       "      <td>-0.933197</td>\n",
       "      <td>1.385065</td>\n",
       "      <td>-0.031895</td>\n",
       "      <td>-0.638197</td>\n",
       "      <td>-1.173747</td>\n",
       "      <td>-3.186918</td>\n",
       "      <td>-2.553735</td>\n",
       "      <td>-2.774628</td>\n",
       "      <td>-4.354582</td>\n",
       "      <td>-2.836078</td>\n",
       "      <td>-3.210409</td>\n",
       "      <td>-1.663951</td>\n",
       "    </tr>\n",
       "    <tr>\n",
       "      <th>AZ</th>\n",
       "      <td>-4.479208</td>\n",
       "      <td>-5.011809</td>\n",
       "      <td>-4.669383</td>\n",
       "      <td>-5.711906</td>\n",
       "      <td>-4.520920</td>\n",
       "      <td>-4.207233</td>\n",
       "      <td>-4.789482</td>\n",
       "      <td>-5.827053</td>\n",
       "      <td>-5.143813</td>\n",
       "      <td>-5.216974</td>\n",
       "      <td>-4.345491</td>\n",
       "      <td>-4.611250</td>\n",
       "      <td>-4.863526</td>\n",
       "      <td>-4.590332</td>\n",
       "      <td>-4.481365</td>\n",
       "    </tr>\n",
       "    <tr>\n",
       "      <th>CA</th>\n",
       "      <td>2.190000</td>\n",
       "      <td>2.310202</td>\n",
       "      <td>2.196115</td>\n",
       "      <td>2.535800</td>\n",
       "      <td>2.199931</td>\n",
       "      <td>2.135548</td>\n",
       "      <td>2.150713</td>\n",
       "      <td>2.447797</td>\n",
       "      <td>2.196166</td>\n",
       "      <td>2.134108</td>\n",
       "      <td>2.210720</td>\n",
       "      <td>2.126722</td>\n",
       "      <td>2.066795</td>\n",
       "      <td>2.060944</td>\n",
       "      <td>2.035342</td>\n",
       "    </tr>\n",
       "  </tbody>\n",
       "</table>\n",
       "</div>"
      ],
      "text/plain": [
       "year       2001      2002      2003      2004      2005      2006      2007  \\\n",
       "state                                                                         \n",
       "AK     0.000000  0.000000  0.000000  0.000000  0.000000  0.000000  0.000000   \n",
       "AL    -7.835467 -8.475724 -9.253044 -8.264674 -8.455503 -8.083637 -8.581933   \n",
       "AR    -0.247439  0.073173 -0.761886 -0.933197  1.385065 -0.031895 -0.638197   \n",
       "AZ    -4.479208 -5.011809 -4.669383 -5.711906 -4.520920 -4.207233 -4.789482   \n",
       "CA     2.190000  2.310202  2.196115  2.535800  2.199931  2.135548  2.150713   \n",
       "\n",
       "year       2008       2009       2010       2011       2012       2013  \\\n",
       "state                                                                    \n",
       "AK     0.000000   0.000000   0.000000   0.000000   0.000000   0.000000   \n",
       "AL    -9.436638 -10.417118 -10.419200 -11.692700 -11.484522 -10.776732   \n",
       "AR    -1.173747  -3.186918  -2.553735  -2.774628  -4.354582  -2.836078   \n",
       "AZ    -5.827053  -5.143813  -5.216974  -4.345491  -4.611250  -4.863526   \n",
       "CA     2.447797   2.196166   2.134108   2.210720   2.126722   2.066795   \n",
       "\n",
       "year       2014       2015  \n",
       "state                       \n",
       "AK     0.000000   0.000000  \n",
       "AL    -9.903135 -10.978857  \n",
       "AR    -3.210409  -1.663951  \n",
       "AZ    -4.590332  -4.481365  \n",
       "CA     2.060944   2.035342  "
      ]
     },
     "execution_count": 36,
     "metadata": {},
     "output_type": "execute_result"
    }
   ],
   "source": [
    "barbell_flows = annual_index_pop_flows.pivot_table(values='MWh flow/pop',\n",
    "                                              index='state', columns='year')\n",
    "\n",
    "barbell_flows.head()"
   ]
  },
  {
   "cell_type": "code",
   "execution_count": 37,
   "metadata": {
    "ExecuteTime": {
     "end_time": "2017-10-27T19:43:20.420119Z",
     "start_time": "2017-10-27T19:43:19.026575Z"
    }
   },
   "outputs": [
    {
     "data": {
      "image/png": "[encoded data removed]",
      "text/plain": [
       "<Figure size 360x648 with 1 Axes>"
      ]
     },
     "metadata": {},
     "output_type": "display_data"
    }
   ],
   "source": [
    "barbell_flows = annual_index_pop_flows.pivot_table(values='MWh flow/pop',\n",
    "                                              index='state', columns='year')\n",
    "barbell_flows.sort_values(by=2015, ascending=False, inplace=True)\n",
    "# barbell_flows.drop('VT', inplace=True)\n",
    "\n",
    "states_flows = list(barbell_flows.index)\n",
    "\n",
    "dumbell_plot(barbell_flows, [2001, 2008, 2015], states_flows, offset_divider=8,\n",
    "             rps_start=rps_start, legend=True, palette='colorblind',\n",
    "             legend_loc=[-20, -40, -60])\n",
    "\n",
    "plt.ylim(-1, 53)\n",
    "sns.despine(left=True)\n",
    "plt.xlabel('MWh flow/Capita')\n",
    "plt.vlines(0, -1, 53, colors=['0.5'], linewidth=1)\n",
    "# plt.xticks()\n",
    "# ax = plt.gca()\n",
    "# ax.set_xscale(\"log\", nonposx='clip')\n",
    "path = join(fig_export_path, 'SI', 'State MWh flow per capita.pdf')\n",
    "# plt.savefig(path, bbox_inches='tight')"
   ]
  }
 ],
 "metadata": {
  "_draft": {
   "nbviewer_url": "https://gist.github.com/f7834c5c2616085cd9236adac70d94b7"
  },
  "gist": {
   "data": {
    "description": "State index & gen data.ipynb",
    "public": false
   },
   "id": "f7834c5c2616085cd9236adac70d94b7"
  },
  "kernelspec": {
   "display_name": "py36",
   "language": "python",
   "name": "py36"
  },
  "language_info": {
   "codemirror_mode": {
    "name": "ipython",
    "version": 3
   },
   "file_extension": ".py",
   "mimetype": "text/x-python",
   "name": "python",
   "nbconvert_exporter": "python",
   "pygments_lexer": "ipython3",
   "version": "3.6.4"
  },
  "varInspector": {
   "cols": {
    "lenName": 16,
    "lenType": 16,
    "lenVar": 40
   },
   "kernels_config": {
    "python": {
     "delete_cmd_postfix": "",
     "delete_cmd_prefix": "del ",
     "library": "var_list.py",
     "varRefreshCmd": "print(var_dic_list())"
    },
    "r": {
     "delete_cmd_postfix": ") ",
     "delete_cmd_prefix": "rm(",
     "library": "var_list.r",
     "varRefreshCmd": "cat(var_dic_list()) "
    }
   },
   "types_to_exclude": [
    "module",
    "function",
    "builtin_function_or_method",
    "instance",
    "_Feature"
   ],
   "window_display": false
  }
 },
 "nbformat": 4,
 "nbformat_minor": 2
}
